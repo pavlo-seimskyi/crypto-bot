{
 "cells": [
  {
   "cell_type": "code",
   "execution_count": 1,
   "id": "355c3293",
   "metadata": {},
   "outputs": [
    {
     "data": {
      "text/plain": [
       "True"
      ]
     },
     "execution_count": 1,
     "metadata": {},
     "output_type": "execute_result"
    }
   ],
   "source": [
    "import os\n",
    "\n",
    "os.chdir(\"../\")\n",
    "\n",
    "from dotenv import load_dotenv\n",
    "\n",
    "load_dotenv(\".env\")"
   ]
  },
  {
   "cell_type": "code",
   "execution_count": 2,
   "id": "b61c6c60",
   "metadata": {},
   "outputs": [
    {
     "data": {
      "application/javascript": [
       "\n",
       "            (function() {\n",
       "                jb_set_cell(\"pq.write_to_dataset(\\n    table,\\n    root_path=output_dir,\\n    partition_cols=[\\\"date\\\"],\\n    filesystem=None,\\n    #     preserve_index=False,\\n    data_namer=lambda _: \\\"data.parquet\\\",\\n)\")\n",
       "            })();\n",
       "            "
      ],
      "text/plain": [
       "<IPython.core.display.Javascript object>"
      ]
     },
     "metadata": {},
     "output_type": "display_data"
    }
   ],
   "source": [
    "import black\n",
    "import jupyter_black\n",
    "\n",
    "jupyter_black.load(\n",
    "    lab=False,\n",
    "    line_length=79,\n",
    "    verbosity=\"INFO\",\n",
    "    target_version=black.TargetVersion.PY310,\n",
    ")"
   ]
  },
  {
   "cell_type": "code",
   "execution_count": 3,
   "id": "7449611f",
   "metadata": {},
   "outputs": [],
   "source": [
    "import pandas as pd\n",
    "import numpy as np\n",
    "import matplotlib.pyplot as plt\n",
    "import seaborn as sns\n",
    "\n",
    "%load_ext autoreload\n",
    "%autoreload 2\n",
    "\n",
    "TEXT_COLOR = \"#313131\"\n",
    "# Plotly colors\n",
    "LINE_COLORS = [\n",
    "    \"#636EFA\",\n",
    "    \"#EF553B\",\n",
    "    \"#00CC96\",\n",
    "    \"#AB63FA\",\n",
    "    \"#FFA15A\",\n",
    "    \"#19D3F3\",\n",
    "    \"#FF6692\",\n",
    "    \"#B6E880\",\n",
    "    \"#FF97FF\",\n",
    "    \"#FECB52\",\n",
    "]\n",
    "\n",
    "sns.set(\n",
    "    style=\"darkgrid\",\n",
    "    rc={\n",
    "        \"figure.figsize\": (6, 4),\n",
    "        \"figure.dpi\": 100,\n",
    "        \"figure.facecolor\": \"w\",\n",
    "        \"legend.facecolor\": \"w\",\n",
    "        \"text.color\": TEXT_COLOR,\n",
    "        \"font.family\": \"Microsoft Sans Serif\",\n",
    "        \"axes.labelcolor\": TEXT_COLOR,\n",
    "        \"xtick.color\": TEXT_COLOR,\n",
    "        \"ytick.color\": TEXT_COLOR,\n",
    "    },\n",
    ")\n",
    "\n",
    "sns.set_palette(sns.color_palette(LINE_COLORS))"
   ]
  },
  {
   "cell_type": "code",
   "execution_count": 5,
   "id": "f289524c",
   "metadata": {},
   "outputs": [],
   "source": [
    "from src.dataloaders import CandleStickDataLoader\n",
    "import constants\n",
    "\n",
    "from binance import enums"
   ]
  },
  {
   "cell_type": "markdown",
   "id": "57485be7",
   "metadata": {},
   "source": [
    "# Load data for the past 4 years"
   ]
  },
  {
   "cell_type": "code",
   "execution_count": 33,
   "id": "1abd56ca",
   "metadata": {},
   "outputs": [],
   "source": [
    "from typing import *"
   ]
  },
  {
   "cell_type": "code",
   "execution_count": 48,
   "id": "a27a7a10",
   "metadata": {},
   "outputs": [],
   "source": [
    "from datetime import datetime\n",
    "import pytz"
   ]
  },
  {
   "cell_type": "code",
   "execution_count": 34,
   "id": "660375d5",
   "metadata": {},
   "outputs": [],
   "source": [
    "def partition_timestamps_into_days(\n",
    "    start: int, end: int\n",
    ") -> List[Tuple[int, int]]:\n",
    "    # hours * minutes * seconds * milliseconds\n",
    "    milliseconds_per_day = 24 * 60 * 60 * 1000\n",
    "    daily_chunks = []\n",
    "\n",
    "    current_timestamp = start\n",
    "    next_midnight = (start // milliseconds_per_day + 1) * milliseconds_per_day\n",
    "\n",
    "    # Add the first chunk, which might be incomplete\n",
    "    if next_midnight <= end:\n",
    "        daily_chunks.append((current_timestamp, next_midnight))\n",
    "        current_timestamp = next_midnight\n",
    "\n",
    "    # Add the complete chunks\n",
    "    while current_timestamp + milliseconds_per_day <= end:\n",
    "        next_day = current_timestamp + milliseconds_per_day\n",
    "        daily_chunks.append((current_timestamp, next_day))\n",
    "        current_timestamp = next_day\n",
    "\n",
    "    # Add the last chunk, which might be incomplete\n",
    "    if current_timestamp < end:\n",
    "        daily_chunks.append((current_timestamp, end))\n",
    "\n",
    "    return daily_chunks"
   ]
  },
  {
   "cell_type": "code",
   "execution_count": 41,
   "id": "495d381b",
   "metadata": {},
   "outputs": [],
   "source": [
    "def saved_partitions(path):\n",
    "    partitions = [f for f in os.listdir(path) if f.startswith(\"date=\")]\n",
    "    return [p.split(\"=\")[1] for p in partitions]"
   ]
  },
  {
   "cell_type": "code",
   "execution_count": 74,
   "id": "a6484778",
   "metadata": {},
   "outputs": [],
   "source": [
    "def timestamp_to_date(timestamp):\n",
    "    dt = datetime.fromtimestamp(int(timestamp / 1000), tz=pytz.utc)\n",
    "    return dt.strftime(\"%Y-%m-%d\")"
   ]
  },
  {
   "cell_type": "code",
   "execution_count": 135,
   "id": "aa91eceb",
   "metadata": {},
   "outputs": [],
   "source": [
    "DATA_DIR = \"data/binance\"\n",
    "os.makedirs(DATA_DIR, exist_ok=True)"
   ]
  },
  {
   "cell_type": "code",
   "execution_count": 309,
   "id": "7d39381c",
   "metadata": {},
   "outputs": [],
   "source": [
    "dl = CandleStickDataLoader(\n",
    "    interval=enums.KLINE_INTERVAL_1MINUTE,\n",
    "    assets=[constants.ASSET_TO_TRADE] + constants.PREDICTOR_ASSETS,\n",
    "    fiat=constants.FIAT_TO_TRADE,\n",
    ")"
   ]
  },
  {
   "cell_type": "code",
   "execution_count": 147,
   "id": "918a7122",
   "metadata": {},
   "outputs": [],
   "source": [
    "start = dl.date_to_timestamp(\"2019-02-01 00:00:00\")\n",
    "end = dl.date_to_timestamp(\"2023-04-28 00:00:00\")"
   ]
  },
  {
   "cell_type": "code",
   "execution_count": 148,
   "id": "6218e966",
   "metadata": {},
   "outputs": [],
   "source": [
    "# Create date partitions\n",
    "date_partitions = partition_timestamps_into_days(start, end)\n",
    "date_partitions = {\n",
    "    timestamp_to_date(start): (start, end) for start, end in date_partitions\n",
    "}\n",
    "\n",
    "# Filter out those that are not already loaded\n",
    "date_partitions_to_load = [\n",
    "    ts\n",
    "    for date, ts in date_partitions.items()\n",
    "    if date not in saved_partitions(DATA_DIR)\n",
    "]\n",
    "\n",
    "for date_start, date_end in date_partitions_to_load:\n",
    "    date = timestamp_to_date(date_start)\n",
    "    data = dl.load_data(date_start, date_end)\n",
    "\n",
    "    date_dir = os.path.join(DATA_DIR, f\"date={date}\")\n",
    "    os.makedirs(date_dir, exist_ok=True)\n",
    "    data.to_parquet(os.path.join(date_dir, \"data.parquet\"))"
   ]
  },
  {
   "cell_type": "code",
   "execution_count": 311,
   "id": "4a4ad2a2",
   "metadata": {},
   "outputs": [],
   "source": [
    "start = dl.date_to_timestamp(\"2021-04-25 03:45:00\")\n",
    "end = dl.date_to_timestamp(\"2021-04-25 10:15:00\")\n",
    "check = dl.load_data(start, end)"
   ]
  },
  {
   "cell_type": "code",
   "execution_count": 167,
   "id": "8ea0ceeb",
   "metadata": {},
   "outputs": [],
   "source": [
    "data = pd.read_parquet(DATA_DIR)"
   ]
  },
  {
   "cell_type": "code",
   "execution_count": 153,
   "id": "b43996e3",
   "metadata": {},
   "outputs": [],
   "source": [
    "data = data.set_index([\"time\"])"
   ]
  },
  {
   "cell_type": "code",
   "execution_count": 178,
   "id": "534476eb",
   "metadata": {},
   "outputs": [],
   "source": [
    "merged_df = data.pivot_table(\n",
    "    index=\"open_timestamp\",\n",
    "    values=data.columns.drop([\"open_timestamp\", \"close_timestamp\"]).tolist(),\n",
    "    aggfunc=\"first\",\n",
    ").reset_index()"
   ]
  },
  {
   "cell_type": "code",
   "execution_count": 189,
   "id": "d4155c95",
   "metadata": {},
   "outputs": [],
   "source": [
    "merged_df = merged_df.drop(\"close_timestamp\", axis=1)"
   ]
  },
  {
   "cell_type": "code",
   "execution_count": 191,
   "id": "f92ee1a8",
   "metadata": {},
   "outputs": [],
   "source": [
    "sorted_cols = [\"time\"] + merged_df.columns.drop(\"time\").tolist()\n",
    "merged_df = merged_df[sorted_cols]"
   ]
  },
  {
   "cell_type": "markdown",
   "id": "c795b319",
   "metadata": {},
   "source": [
    "---"
   ]
  },
  {
   "cell_type": "markdown",
   "id": "9822b00b",
   "metadata": {},
   "source": [
    "# Process missing intervals"
   ]
  },
  {
   "cell_type": "code",
   "execution_count": 372,
   "id": "c70386b4",
   "metadata": {},
   "outputs": [],
   "source": [
    "# 1. Extend the data frame to have full interval range\n",
    "min_time = data[\"time\"].min()\n",
    "max_time = data[\"time\"].max()\n",
    "\n",
    "full_range_df = pd.DataFrame(\n",
    "    {\"time\": pd.date_range(min_time, max_time, freq=\"1T\")}\n",
    ")\n",
    "\n",
    "# Merge the existing DataFrame with the full_range_df DataFrame\n",
    "filled_df = full_range_df.merge(merged_df, on=\"time\", how=\"left\")"
   ]
  },
  {
   "cell_type": "code",
   "execution_count": 373,
   "id": "2131af96",
   "metadata": {},
   "outputs": [],
   "source": [
    "# 2. Create `service_down` marking\n",
    "filled_df[\"service_down\"] = np.where(\n",
    "    filled_df.isnull().any(axis=1), True, False\n",
    ")"
   ]
  },
  {
   "cell_type": "code",
   "execution_count": 374,
   "id": "e2024bf3",
   "metadata": {},
   "outputs": [],
   "source": [
    "# 3. Fill the missing data\n",
    "filled_df = filled_df.fillna(method=\"ffill\")"
   ]
  },
  {
   "cell_type": "code",
   "execution_count": 375,
   "id": "97922ab8",
   "metadata": {},
   "outputs": [],
   "source": [
    "dtypes = data.dtypes.drop(\"close_timestamp\").to_dict()"
   ]
  },
  {
   "cell_type": "code",
   "execution_count": 376,
   "id": "cf501512",
   "metadata": {},
   "outputs": [],
   "source": [
    "filled_df = filled_df.astype(dtypes)"
   ]
  },
  {
   "cell_type": "code",
   "execution_count": 380,
   "id": "2dd66e69",
   "metadata": {},
   "outputs": [
    {
     "name": "stderr",
     "output_type": "stream",
     "text": [
      "/var/folders/q_/10kbwhdx04lc4nptpgk0fklm0000gp/T/ipykernel_17068/3838369250.py:10: FutureWarning: Passing 'use_legacy_dataset=True' to get the legacy behaviour is deprecated as of pyarrow 8.0.0, and the legacy implementation will be removed in a future version.\n",
      "  pq.write_to_dataset(\n",
      "/var/folders/q_/10kbwhdx04lc4nptpgk0fklm0000gp/T/ipykernel_17068/3838369250.py:10: FutureWarning: 'partition_filename_cb' attribute is deprecated as of pyarrow 5.0.0 and will be removed in a future version. Specify 'use_legacy_dataset=False' while constructing the ParquetDataset, and then use the 'basename_template' parameter instead. For usage see `pyarrow.dataset.write_dataset`\n",
      "  pq.write_to_dataset(\n"
     ]
    }
   ],
   "source": [
    "# Save the dataset\n",
    "import pyarrow as pa\n",
    "import pyarrow.parquet as pq\n",
    "\n",
    "table = pa.Table.from_pandas(filled_df)\n",
    "\n",
    "output_dir = \"data/binance_fixed\"\n",
    "os.makedirs(output_dir, exist_ok=True)\n",
    "\n",
    "pq.write_to_dataset(\n",
    "    table,\n",
    "    root_path=output_dir,\n",
    "    partition_cols=[\"date\"],\n",
    "    partition_filename_cb=lambda _: \"data.parquet\",\n",
    ")"
   ]
  },
  {
   "cell_type": "markdown",
   "id": "ee6e9b13",
   "metadata": {},
   "source": [
    "---"
   ]
  }
 ],
 "metadata": {
  "kernelspec": {
   "display_name": "crypto-bot",
   "language": "python",
   "name": "crypto-bot"
  },
  "language_info": {
   "codemirror_mode": {
    "name": "ipython",
    "version": 3
   },
   "file_extension": ".py",
   "mimetype": "text/x-python",
   "name": "python",
   "nbconvert_exporter": "python",
   "pygments_lexer": "ipython3",
   "version": "3.8.6"
  }
 },
 "nbformat": 4,
 "nbformat_minor": 5
}
