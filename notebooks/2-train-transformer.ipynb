{
  "cells": [
    {
      "cell_type": "markdown",
      "metadata": {
        "id": "view-in-github",
        "colab_type": "text"
      },
      "source": [
        "<a href=\"https://colab.research.google.com/github/pavlo-seimskyi/crypto-bot/blob/train-transformer/notebooks/2-train-transformer.ipynb\" target=\"_parent\"><img src=\"https://colab.research.google.com/assets/colab-badge.svg\" alt=\"Open In Colab\"/></a>"
      ]
    },
    {
      "cell_type": "markdown",
      "source": [
        "# Get source code and install dependencies"
      ],
      "metadata": {
        "id": "_y8hVFWSHiqK"
      }
    },
    {
      "cell_type": "markdown",
      "source": [
        "Install PyTorch and other dependencies"
      ],
      "metadata": {
        "id": "VX0s7Y7RHMvB"
      }
    },
    {
      "cell_type": "code",
      "execution_count": null,
      "metadata": {
        "id": "VMr6J8D7d1nn"
      },
      "outputs": [],
      "source": [
        "%%capture\n",
        "!pip install torch mlflow talipp"
      ]
    },
    {
      "cell_type": "markdown",
      "source": [
        "Clone Git repository with the code"
      ],
      "metadata": {
        "id": "y4-kUPq6Gv1Z"
      }
    },
    {
      "cell_type": "code",
      "source": [
        "# # Generate a public key\n",
        "# !ssh-keygen -t rsa -b 4096\n",
        "# !ssh-keyscan -t rsa github.com >> ~/.ssh/known_hosts"
      ],
      "metadata": {
        "id": "k26rza9NEot1"
      },
      "execution_count": null,
      "outputs": []
    },
    {
      "cell_type": "code",
      "source": [
        "# !cat /root/.ssh/id_rsa.pub"
      ],
      "metadata": {
        "id": "Ma9wqcf1FpEp"
      },
      "execution_count": null,
      "outputs": []
    },
    {
      "cell_type": "markdown",
      "source": [
        "Add the key following [this documentation ](https://docs.github.com/en/github/authenticating-to-github/adding-a-new-ssh-key-to-your-github-account)\n"
      ],
      "metadata": {
        "id": "4b-znPExFhS7"
      }
    },
    {
      "cell_type": "code",
      "source": [
        "# Test SSH connection\n",
        "# !ssh -T git@github.com"
      ],
      "metadata": {
        "id": "SMp9gGcNEok5"
      },
      "execution_count": null,
      "outputs": []
    },
    {
      "cell_type": "code",
      "source": [
        "# !rm -rf /content/filler-sound-detector\n",
        "# %cd /content"
      ],
      "metadata": {
        "id": "9igQkdKcxx_p"
      },
      "execution_count": null,
      "outputs": []
    },
    {
      "cell_type": "code",
      "source": [
        "# !git config --global user.email \"pavseim@gmail.com\"\n",
        "# !git config --global user.name \"pavlo-seimskyi\"\n",
        "# !git clone git@github.com:pavlo-seimskyi/filler-sound-detector.git\n",
        "# !cd filler-sound-detector && git checkout fine-tune-mlp-model"
      ],
      "metadata": {
        "id": "KjBr94doFW25"
      },
      "execution_count": null,
      "outputs": []
    },
    {
      "cell_type": "markdown",
      "source": [
        "Log in to gDrive"
      ],
      "metadata": {
        "id": "ZNTtFvwYJxeT"
      }
    },
    {
      "cell_type": "code",
      "execution_count": null,
      "metadata": {
        "colab": {
          "base_uri": "https://localhost:8080/"
        },
        "id": "AYIsdj_beN1K",
        "outputId": "11f7018c-ca85-446c-cda1-504614b58efe"
      },
      "outputs": [
        {
          "output_type": "stream",
          "name": "stdout",
          "text": [
            "Mounted at /content/drive\n"
          ]
        }
      ],
      "source": [
        "from google.colab import drive\n",
        "drive.mount('/content/drive')"
      ]
    },
    {
      "cell_type": "code",
      "execution_count": null,
      "metadata": {
        "id": "TogJg2o_d-xS"
      },
      "outputs": [],
      "source": [
        "import os\n",
        "import seaborn as sns\n",
        "import matplotlib.pyplot as plt\n",
        "import numpy as np\n",
        "import pandas as pd\n",
        "\n",
        "import shutil\n",
        "import zipfile\n",
        "\n",
        "from talipp.indicators import EMA, SMA, MACD, RSI, BB, OBV\n",
        "from talipp.ohlcv import OHLCVFactory\n",
        "\n",
        "from sklearn.preprocessing import StandardScaler\n",
        "from sklearn.model_selection import train_test_split\n",
        "from sklearn.metrics import (\n",
        "    ConfusionMatrixDisplay,\n",
        "    average_precision_score,\n",
        "    f1_score,\n",
        "    balanced_accuracy_score,\n",
        ")\n",
        "\n",
        "import torch\n",
        "from torch.utils.data import Dataset, DataLoader\n",
        "from torch import Tensor\n",
        "import torch.nn as nn\n",
        "from torch.nn import TransformerEncoder, TransformerEncoderLayer\n",
        "import torch.nn.functional as F\n",
        "\n",
        "from typing import *"
      ]
    },
    {
      "cell_type": "code",
      "execution_count": null,
      "metadata": {
        "id": "1fI95Y-bkCQ8"
      },
      "outputs": [],
      "source": [
        "TEXT_COLOR = '#313131'\n",
        "# Plotly colors\n",
        "LINE_COLORS = ['#636EFA', '#EF553B', '#00CC96', '#AB63FA', '#FFA15A', '#19D3F3', '#FF6692', '#B6E880', '#FF97FF', '#FECB52']\n",
        "\n",
        "sns.set(\n",
        "    style='darkgrid', \n",
        "    rc={\n",
        "        'figure.figsize':(6,4),\n",
        "        'figure.dpi': 100,\n",
        "        'figure.facecolor': 'w',\n",
        "        'legend.facecolor': 'w',\n",
        "        'text.color': TEXT_COLOR,\n",
        "        # 'font.family': 'Microsoft Sans Serif',\n",
        "        'axes.labelcolor': TEXT_COLOR,\n",
        "        'xtick.color': TEXT_COLOR,\n",
        "        'ytick.color': TEXT_COLOR\n",
        "    }\n",
        ")\n",
        "\n",
        "sns.set_palette(sns.color_palette(LINE_COLORS))"
      ]
    },
    {
      "cell_type": "code",
      "execution_count": null,
      "metadata": {
        "colab": {
          "base_uri": "https://localhost:8080/",
          "height": 35
        },
        "id": "OlQqE_Mskshu",
        "outputId": "7d4d2c09-7036-4b37-e61f-2f2eaf8ad79e"
      },
      "outputs": [
        {
          "output_type": "execute_result",
          "data": {
            "text/plain": [
              "'Tesla T4'"
            ],
            "application/vnd.google.colaboratory.intrinsic+json": {
              "type": "string"
            }
          },
          "metadata": {},
          "execution_count": 10
        }
      ],
      "source": [
        "# What GPU am I using?\n",
        "torch.cuda.get_device_name(0)"
      ]
    },
    {
      "cell_type": "code",
      "execution_count": null,
      "metadata": {
        "id": "WOQ0S8pg5Rhe"
      },
      "outputs": [],
      "source": [
        "device = torch.device(\"cuda\" if torch.cuda.is_available() else \"cpu\")"
      ]
    },
    {
      "cell_type": "code",
      "source": [
        "# Dataset config\n",
        "INTERVAL = \"1H\"\n",
        "LOOKAHEAD_INTERVAL = 3\n",
        "ASSET_TO_TRADE = \"ETH\"\n",
        "PREDICTOR_ASSETS = [\"BTC\", \"LTC\", \"XRP\", \"ADA\", \"BNB\", \"XRP\"]\n",
        "FIAT_TO_TRADE = \"USDT\"\n",
        "\n",
        "# Transformer params\n",
        "SEQ_LEN = 100  # predict, using data from the last 100 intervals\n",
        "N_HEAD = 8  # attention heads in each transformer layer, typically 8\n",
        "N_EMBEDDING_DIMS = 64  # 512 in the original paper but that's for a huge vocab\n",
        "N_LAYERS = 2  # 6 in the original paper\n",
        "N_OUT = 3  # one for each class\n",
        "BATCH_SIZE = 128\n",
        "N_EPOCHS = 100"
      ],
      "metadata": {
        "id": "0-1B6UYl8c3O"
      },
      "execution_count": null,
      "outputs": []
    },
    {
      "cell_type": "markdown",
      "source": [
        "# Prepare data for training"
      ],
      "metadata": {
        "id": "GBItZ3bzV7B8"
      }
    },
    {
      "cell_type": "markdown",
      "metadata": {
        "id": "X_4tN-Q1d_pY"
      },
      "source": [
        "## Read data from gDrive"
      ]
    },
    {
      "cell_type": "code",
      "execution_count": null,
      "metadata": {
        "id": "0Xx76k7recLl"
      },
      "outputs": [],
      "source": [
        "ROOT_DIR = \"drive/MyDrive/data-science/crypto-bot/\"\n",
        "\n",
        "# Destination\n",
        "DATA_DIR = \"data\"\n",
        "os.makedirs(DATA_DIR, exist_ok=True)"
      ]
    },
    {
      "cell_type": "code",
      "source": [
        "%%time\n",
        "shutil.copy(\n",
        "    src=os.path.join(ROOT_DIR, \"data\", \"binance.zip\"), \n",
        "    dst=DATA_DIR,\n",
        ")\n",
        "\n",
        "with zipfile.ZipFile(os.path.join(DATA_DIR, \"binance.zip\"), 'r') as f:\n",
        "    f.extractall(DATA_DIR)"
      ],
      "metadata": {
        "colab": {
          "base_uri": "https://localhost:8080/"
        },
        "id": "Oi89ZWTimf3K",
        "outputId": "382ad1be-e439-41b7-b07a-3f3d582d0f7a"
      },
      "execution_count": null,
      "outputs": [
        {
          "output_type": "stream",
          "name": "stdout",
          "text": [
            "CPU times: user 5.01 s, sys: 1.98 s, total: 6.99 s\n",
            "Wall time: 8.42 s\n"
          ]
        }
      ]
    },
    {
      "cell_type": "code",
      "source": [
        "df = pd.read_parquet(os.path.join(DATA_DIR, \"binance\"))"
      ],
      "metadata": {
        "id": "5T2dckYsnsA3"
      },
      "execution_count": null,
      "outputs": []
    },
    {
      "cell_type": "markdown",
      "source": [
        "Clean the data"
      ],
      "metadata": {
        "id": "SDYsczLE0dW_"
      }
    },
    {
      "cell_type": "code",
      "source": [
        "df[df[\"BTCUSDT_open\"].isna()][\"time\"].dt.date.unique()"
      ],
      "metadata": {
        "colab": {
          "base_uri": "https://localhost:8080/"
        },
        "id": "6C82Ht0HrnGm",
        "outputId": "3942bb2c-2db1-42c5-87e1-76f3362e9c3c"
      },
      "execution_count": null,
      "outputs": [
        {
          "output_type": "execute_result",
          "data": {
            "text/plain": [
              "array([], dtype=object)"
            ]
          },
          "metadata": {},
          "execution_count": 65
        }
      ]
    },
    {
      "cell_type": "code",
      "source": [
        "df[\"date\"] = pd.to_datetime(df[\"date\"])"
      ],
      "metadata": {
        "id": "l8llp5YsAvi3"
      },
      "execution_count": null,
      "outputs": []
    },
    {
      "cell_type": "markdown",
      "source": [
        "Resample to a less frequent interval"
      ],
      "metadata": {
        "id": "nWXzfYH60fJl"
      }
    },
    {
      "cell_type": "code",
      "source": [
        "def resample_klines_df(df: pd.DataFrame, time_col: str, dst_freq: str):\n",
        "    \"\"\"Resample to a different interval.\"\"\"\n",
        "    kline_cols_and_funcs = {\n",
        "        \"open\": \"first\",\n",
        "        \"high\": \"max\",\n",
        "        \"low\": \"min\",\n",
        "        \"close\": \"last\",\n",
        "        \"volume\": \"sum\",\n",
        "        \"quote_asset_volume\": \"sum\",\n",
        "        \"number_of_trades\": \"sum\",\n",
        "        \"taker_buy_base_asset_volume\": \"sum\",\n",
        "        \"taker_buy_quote_asset_volume\": \"sum\",\n",
        "    }\n",
        "    cols = df.columns\n",
        "    cols_and_aggfuncs = {\n",
        "        col: func\n",
        "        for colend, func in kline_cols_and_funcs.items()\n",
        "        for col in cols[cols.str.endswith(colend)].tolist()\n",
        "    }\n",
        "    resampled_df = df.set_index(time_col)\n",
        "    resampled_df.index.freq = \"1T\"\n",
        "    resampled_df = resampled_df.resample(dst_freq).agg(cols_and_aggfuncs)\n",
        "    return resampled_df.reset_index()"
      ],
      "metadata": {
        "id": "JbhABDcV0G7C"
      },
      "execution_count": null,
      "outputs": []
    },
    {
      "cell_type": "code",
      "source": [
        "if INTERVAL != \"1m\":\n",
        "    df = resample_klines_df(df, \"time\", dst_freq=INTERVAL)"
      ],
      "metadata": {
        "id": "z6qYBrEv0KAR"
      },
      "execution_count": null,
      "outputs": []
    },
    {
      "cell_type": "markdown",
      "metadata": {
        "id": "gxGGVzSNhKQV"
      },
      "source": [
        "---"
      ]
    },
    {
      "cell_type": "markdown",
      "source": [
        "## Extract TA features"
      ],
      "metadata": {
        "id": "MnL_7ZJOo726"
      }
    },
    {
      "cell_type": "code",
      "source": [
        "def get_ema_indicator(input_values, period):\n",
        "    output_values = EMA(input_values=input_values, period=period).output_values\n",
        "    return (period - 1) * [np.nan] + output_values\n",
        "\n",
        "\n",
        "def get_sma_indicator(input_values, period):\n",
        "    output_values = SMA(input_values=input_values, period=period).output_values\n",
        "    return (period - 1) * [np.nan] + output_values\n",
        "\n",
        "\n",
        "def get_macd_indicator(\n",
        "    input_values, fast_period=12, slow_period=26, signal_period=9\n",
        "):\n",
        "    output_values = MACD(\n",
        "        input_values=input_values,\n",
        "        fast_period=fast_period,\n",
        "        slow_period=slow_period,\n",
        "        signal_period=signal_period,\n",
        "    ).output_values\n",
        "    nans = (slow_period - 1) * [np.nan]\n",
        "    return {\n",
        "        \"macd_line\": nans + [value.macd for value in output_values],\n",
        "        \"macd_signal\": nans + [value.signal for value in output_values],\n",
        "        \"macd_histogram\": nans + [value.histogram for value in output_values],\n",
        "    }\n",
        "\n",
        "\n",
        "def get_rsi_indicator(input_values, period=14):\n",
        "    output_values = RSI(input_values=input_values, period=period).output_values\n",
        "    return period * [np.nan] + output_values\n",
        "\n",
        "\n",
        "def get_bb_indicator(input_values, period=14, std_dev_multiplier=2):\n",
        "    output_values = BB(\n",
        "        input_values=input_values,\n",
        "        period=period,\n",
        "        std_dev_multiplier=std_dev_multiplier,\n",
        "    ).output_values\n",
        "    nans = (period - 1) * [np.nan]\n",
        "    return {\n",
        "        \"lower\": nans + [value.lb for value in output_values],\n",
        "        \"middle\": nans + [value.cb for value in output_values],\n",
        "        \"upper\": nans + [value.ub for value in output_values],\n",
        "    }\n",
        "\n",
        "\n",
        "def get_obv_indicator(\n",
        "    input_open, input_close, input_high, input_low, input_volume\n",
        "):\n",
        "    ohlcvs = OHLCVFactory.from_dict(\n",
        "        {\n",
        "            \"open\": input_open,\n",
        "            \"close\": input_close,\n",
        "            \"high\": input_high,\n",
        "            \"low\": input_low,\n",
        "            \"volume\": input_volume,\n",
        "        }\n",
        "    )\n",
        "    return OBV(ohlcvs).output_values"
      ],
      "metadata": {
        "id": "3QRa5LD3o7vw"
      },
      "execution_count": null,
      "outputs": []
    },
    {
      "cell_type": "code",
      "source": [
        "def extract_time_features(df, time_col: str):\n",
        "    # Extract features from the 'time' column\n",
        "    df['day_of_week'] = df[time_col].dt.dayofweek\n",
        "    df['day_of_year'] = df[time_col].dt.dayofyear\n",
        "    df['week_of_year'] = df[time_col].dt.isocalendar().week\n",
        "    df['month'] = df[time_col].dt.month\n",
        "    df['quarter'] = df[time_col].dt.quarter\n",
        "    df['year'] = df[time_col].dt.year\n",
        "\n",
        "    df['is_morning'] = (df[time_col].dt.hour >= 5) & (df['time'].dt.hour < 12)\n",
        "    df['is_afternoon'] = (df[time_col].dt.hour >= 12) & (df['time'].dt.hour < 17)\n",
        "    df['is_evening'] = (df[time_col].dt.hour >= 17) & (df['time'].dt.hour < 21)\n",
        "    df['is_night'] = (df[time_col].dt.hour >= 21) | (df['time'].dt.hour < 5)\n",
        "\n",
        "    return df"
      ],
      "metadata": {
        "id": "-RkFCYimkxja"
      },
      "execution_count": null,
      "outputs": []
    },
    {
      "cell_type": "code",
      "source": [
        "features_df = pd.DataFrame()\n",
        "\n",
        "for tic in [ASSET_TO_TRADE] + PREDICTOR_ASSETS:\n",
        "    # EMA\n",
        "    for period in [9, 21, 50]:\n",
        "        features_df[f\"{tic}_EMA_{period}\"] = get_ema_indicator(\n",
        "            input_values=df[f\"{tic}USDT_close\"], period=period\n",
        "        )\n",
        "        features_df[f\"{tic}_SMA_{period}\"] = get_sma_indicator(\n",
        "            input_values=df[f\"{tic}USDT_close\"], period=period\n",
        "        )\n",
        "\n",
        "    # MACD\n",
        "    macd_indicators = get_macd_indicator(\n",
        "        input_values=df[f\"{tic}USDT_close\"]\n",
        "    )\n",
        "    features_df[f\"{tic}_MACD_line\"] = macd_indicators[\"macd_line\"]\n",
        "    features_df[f\"{tic}_MACD_signal\"] = macd_indicators[\"macd_signal\"]\n",
        "    features_df[f\"{tic}_MACD_histogram\"] = macd_indicators[\"macd_histogram\"]\n",
        "\n",
        "    # RSI\n",
        "    features_df[f\"{tic}_RSI\"] = get_rsi_indicator(\n",
        "        input_values=df[f\"{tic}USDT_close\"]\n",
        "    )\n",
        "    \n",
        "    # Bollinger bands\n",
        "    bb_indicators = get_bb_indicator(\n",
        "        input_values=df[f\"{tic}USDT_close\"]\n",
        "    )\n",
        "    features_df[f\"{tic}_BB_lower\"] = bb_indicators[\"lower\"]\n",
        "    features_df[f\"{tic}_BB_middle\"] = bb_indicators[\"middle\"]\n",
        "    features_df[f\"{tic}_BB_upper\"] = bb_indicators[\"upper\"]\n",
        "\n",
        "    # OBV\n",
        "    features_df[f\"{tic}_OBV\"] = get_obv_indicator(\n",
        "        input_open=df[f\"{tic}USDT_open\"],\n",
        "        input_close=df[f\"{tic}USDT_close\"],\n",
        "        input_high=df[f\"{tic}USDT_high\"],\n",
        "        input_low=df[f\"{tic}USDT_low\"],\n",
        "        input_volume=df[f\"{tic}USDT_volume\"],\n",
        "    )"
      ],
      "metadata": {
        "id": "Rlof7eg2tgrT"
      },
      "execution_count": null,
      "outputs": []
    },
    {
      "cell_type": "code",
      "source": [
        "df = pd.concat(\n",
        "    (\n",
        "        df.reset_index(drop=True),\n",
        "        features_df.reset_index(drop=True),\n",
        "    ),\n",
        "    axis=1,\n",
        ")"
      ],
      "metadata": {
        "id": "UUw6Tj8r1AeU"
      },
      "execution_count": null,
      "outputs": []
    },
    {
      "cell_type": "code",
      "source": [
        "df = extract_time_features(df, \"time\")"
      ],
      "metadata": {
        "id": "7u-y7i9ClaWX"
      },
      "execution_count": null,
      "outputs": []
    },
    {
      "cell_type": "markdown",
      "source": [
        "## Extract targets"
      ],
      "metadata": {
        "id": "Ana11CE-fzAo"
      }
    },
    {
      "cell_type": "code",
      "source": [
        "def label_three_bar_method(prices, interval: int, threshold_pct: float):\n",
        "    \"\"\"\n",
        "    Label depending on relative changes in future prices.\n",
        "\n",
        "    Parameters\n",
        "    ----------\n",
        "    prices: array\n",
        "        Data containing features `frequency`, `recency`, and `T`\n",
        "        for each `customer_id`.\n",
        "    interval: int\n",
        "        How many steps ahead is the future price.\n",
        "    threshold: float\n",
        "        1.0 = 1%.\n",
        "\n",
        "    Returns\n",
        "    -------\n",
        "    Array of buy/sell/hold signals.\n",
        "        -1 = Sell signal. Price will drop below the threshold.\n",
        "        0 = Hold signal. Price will not surpass the threshold\n",
        "        1 = Buy signal. Price will rise above the threshold.\n",
        "    \"\"\"\n",
        "    future_prices = np.roll(a=prices, shift=-interval)\n",
        "\n",
        "    labels = 100 * future_prices / prices - 100\n",
        "\n",
        "    labels[labels > threshold_pct] = 2\n",
        "    labels[(labels <= threshold_pct) & (labels >= -threshold_pct)] = 1\n",
        "    labels[labels < -threshold_pct] = 0\n",
        "\n",
        "    return np.concatenate((labels[:-interval], interval * [np.nan]))"
      ],
      "metadata": {
        "id": "1tBlr1XEfy6y"
      },
      "execution_count": null,
      "outputs": []
    },
    {
      "cell_type": "code",
      "source": [
        "df[\"target\"] = label_three_bar_method(\n",
        "    prices=df[f\"{ASSET_TO_TRADE + FIAT_TO_TRADE}_close\"].values,\n",
        "    interval=3,\n",
        "    threshold_pct=0.5,  # 0.50% change = commission on Binance\n",
        ")"
      ],
      "metadata": {
        "id": "pp3Rfmvqh9YA"
      },
      "execution_count": null,
      "outputs": []
    },
    {
      "cell_type": "code",
      "source": [
        "df[\"target\"].dropna().value_counts().sort_index().plot(kind=\"bar\")\n",
        "plt.xticks(rotation=0)\n",
        "plt.xlabel(\"target\")\n",
        "plt.title(\"Count of target labels\")"
      ],
      "metadata": {
        "colab": {
          "base_uri": "https://localhost:8080/",
          "height": 437
        },
        "id": "pKA3zBmQideR",
        "outputId": "90a20eaf-f2df-4a06-8aef-49cb8ceb616b"
      },
      "execution_count": null,
      "outputs": [
        {
          "output_type": "execute_result",
          "data": {
            "text/plain": [
              "Text(0.5, 1.0, 'Count of target labels')"
            ]
          },
          "metadata": {},
          "execution_count": 76
        },
        {
          "output_type": "display_data",
          "data": {
            "text/plain": [
              "<Figure size 600x400 with 1 Axes>"
            ],
            "image/png": "[encoded data removed]"
          },
          "metadata": {}
        }
      ]
    },
    {
      "cell_type": "markdown",
      "source": [
        "## Train-test split & normalize"
      ],
      "metadata": {
        "id": "o7CJavzFV9Wm"
      }
    },
    {
      "cell_type": "code",
      "source": [
        "X = df.dropna().drop([\"time\", \"target\"], axis=1).copy()\n",
        "y = df.dropna()[\"target\"].copy()"
      ],
      "metadata": {
        "id": "PkAkephTjce-"
      },
      "execution_count": null,
      "outputs": []
    },
    {
      "cell_type": "code",
      "source": [
        "# Train test split\n",
        "cutoff_date = \"2022-09-01\"\n",
        "time = df[\"time\"]\n",
        "cutoff_idx = time[time == cutoff_date].index.values[0]\n",
        "\n",
        "x_train = X[:cutoff_idx]\n",
        "x_valid = X[cutoff_idx:]\n",
        "y_train = y[:cutoff_idx]\n",
        "y_valid = y[cutoff_idx:]"
      ],
      "metadata": {
        "id": "_OogRvnSmvdX"
      },
      "execution_count": null,
      "outputs": []
    },
    {
      "cell_type": "code",
      "source": [
        "# Normalize the data\n",
        "scaler = StandardScaler()\n",
        "\n",
        "x_train = scaler.fit_transform(x_train)\n",
        "x_valid = scaler.transform(x_valid)"
      ],
      "metadata": {
        "id": "noZzcW1ZnaAm"
      },
      "execution_count": null,
      "outputs": []
    },
    {
      "cell_type": "code",
      "execution_count": null,
      "metadata": {
        "colab": {
          "base_uri": "https://localhost:8080/"
        },
        "id": "IBajso-L-xJJ",
        "outputId": "b22c58c2-d3a1-4d43-a377-b248e5ca64c3"
      },
      "outputs": [
        {
          "output_type": "execute_result",
          "data": {
            "text/plain": [
              "(-5.762055815509432e-16, 0.9999999999999994)"
            ]
          },
          "metadata": {},
          "execution_count": 80
        }
      ],
      "source": [
        "x_train.mean(), x_train.std()"
      ]
    },
    {
      "cell_type": "code",
      "execution_count": null,
      "metadata": {
        "colab": {
          "base_uri": "https://localhost:8080/"
        },
        "id": "QI-HuoVj_B4q",
        "outputId": "33f6fa10-05c2-44d8-9ad0-5ad3c127fd34"
      },
      "outputs": [
        {
          "output_type": "execute_result",
          "data": {
            "text/plain": [
              "(0.02942864084022249, 0.8916868235417234)"
            ]
          },
          "metadata": {},
          "execution_count": 81
        }
      ],
      "source": [
        "x_valid.mean(), x_valid.std()"
      ]
    },
    {
      "cell_type": "code",
      "execution_count": null,
      "metadata": {
        "colab": {
          "base_uri": "https://localhost:8080/",
          "height": 419
        },
        "id": "cM0CxGY-jk12",
        "outputId": "f53a0656-3d45-4c05-bffc-fa4e78edf1e9"
      },
      "outputs": [
        {
          "output_type": "display_data",
          "data": {
            "text/plain": [
              "<Figure size 600x400 with 1 Axes>"
            ],
            "image/png": "[encoded data removed]"
          },
          "metadata": {}
        }
      ],
      "source": [
        "fig,ax = plt.subplots()\n",
        "sns.countplot(x=y_valid.astype(int), ax=ax)\n",
        "\n",
        "# show the count in %\n",
        "for p in ax.patches:\n",
        "    h_, w_, x_ = p.get_height(), p.get_width(), p.get_x()\n",
        "    xy_ = (x_ + w_ / 2., h_ / 2)\n",
        "    pct = 100 * h_ / y_valid.shape[0]\n",
        "    text = f'{pct:0.1f}%'\n",
        "    ax.annotate(text=text, xy=xy_, ha='center', va='bottom')\n",
        "    \n",
        "plt.title(\"Target distribution is a bit imbalanced\")\n",
        "plt.show()"
      ]
    },
    {
      "cell_type": "markdown",
      "source": [
        "## Transform the dataset into sequences"
      ],
      "metadata": {
        "id": "G7hjffpSoS8n"
      }
    },
    {
      "cell_type": "code",
      "source": [
        "class SlidingWindowDataset(Dataset):\n",
        "    def __init__(\n",
        "        self,\n",
        "        x: Tensor,\n",
        "        y: Optional[Tensor] = None,\n",
        "        seq_len: int = 1,\n",
        "        y_position: Optional[int] = None,\n",
        "    ):\n",
        "        \"\"\"\n",
        "        Creates a sequence of sliding windows from the original X array, and maps each\n",
        "            window to a target on a specified position within the window.\n",
        "        Parameters\n",
        "        ----------\n",
        "        x: Tensor with features of shape (n_samples, n_features)\n",
        "        y: Tensor with targets of shape (n_samples, 1)\n",
        "        seq_len: Window length\n",
        "        y_position: Position within the window that corresponds to the target.\n",
        "            By default, the target is mapped to the last window element.\n",
        "            Can be anything between 0 and seq_len-1.\n",
        "        \"\"\"\n",
        "        super(SlidingWindowDataset, self).__init__()\n",
        "        self.seq_len = seq_len\n",
        "        self.x = self.apply_sliding_window_to_x(x)\n",
        "        self.y_available = y is not None\n",
        "        if self.y_available:\n",
        "            assert x.size(0) == y.size(0), \"X and y must have equal shape.\"\n",
        "            self.y_position = (\n",
        "                y_position if y_position is not None else seq_len - 1\n",
        "            )\n",
        "            assert (\n",
        "                self.y_position < self.seq_len\n",
        "            ), f\"Y position must be between 0 and sequence length - 1.\"\n",
        "            self.y = self.get_y_per_window(y)\n",
        "\n",
        "    def __len__(self):\n",
        "        return self.x.size(0)\n",
        "\n",
        "    def __getitem__(self, index):\n",
        "        if self.y_available:\n",
        "            return self.x[index], self.y[index]\n",
        "        else:\n",
        "            return self.x[index]\n",
        "\n",
        "    def apply_sliding_window_to_x(self, x):\n",
        "        \"\"\"Transforming an array into a sequence of sliding windows of size:\n",
        "        (batch, seq_len, n_features).\"\"\"\n",
        "        return x.unfold(dimension=0, size=self.seq_len, step=1).transpose(2, 1)\n",
        "\n",
        "    def get_y_per_window(self, y):\n",
        "        start = self.y_position\n",
        "        end = -self.seq_len + start + 1 if start + 1 != self.seq_len else None\n",
        "        return y[start:end]"
      ],
      "metadata": {
        "id": "AYeFiGvdoSym"
      },
      "execution_count": null,
      "outputs": []
    },
    {
      "cell_type": "code",
      "source": [
        "# Transform X & y into tensors\n",
        "x_train = torch.tensor(x_train, dtype=torch.float)\n",
        "x_valid = torch.tensor(x_valid, dtype=torch.float)\n",
        "y_train = torch.tensor(y_train.values, dtype=torch.long)\n",
        "y_valid = torch.tensor(y_valid.values, dtype=torch.long)"
      ],
      "metadata": {
        "id": "sRYXEbM7oi5L"
      },
      "execution_count": null,
      "outputs": []
    },
    {
      "cell_type": "code",
      "source": [
        "# Send data to GPU\n",
        "x_train = x_train.to(device)\n",
        "x_valid = x_valid.to(device)\n",
        "y_train = y_train.to(device)\n",
        "y_valid = y_valid.to(device)"
      ],
      "metadata": {
        "id": "Dtg7b6EEqNXL"
      },
      "execution_count": null,
      "outputs": []
    },
    {
      "cell_type": "code",
      "source": [
        "# Build datasets\n",
        "ds_train = SlidingWindowDataset(x=x_train, y=y_train, seq_len=SEQ_LEN)\n",
        "ds_valid = SlidingWindowDataset(x=x_valid, y=y_valid, seq_len=SEQ_LEN)"
      ],
      "metadata": {
        "id": "9Py23lrpoeWh"
      },
      "execution_count": null,
      "outputs": []
    },
    {
      "cell_type": "code",
      "source": [
        "valid_pct = 100 * len(ds_valid) / (len(ds_train) + len(ds_valid))\n",
        "print(f\"Validation set size: {round(valid_pct, 1)}%\")"
      ],
      "metadata": {
        "colab": {
          "base_uri": "https://localhost:8080/"
        },
        "id": "hzOWsK2Oo77P",
        "outputId": "e537a720-071c-4111-bb91-35c0ff9a78b4"
      },
      "execution_count": null,
      "outputs": [
        {
          "output_type": "stream",
          "name": "stdout",
          "text": [
            "Validation set size: 15.1%\n"
          ]
        }
      ]
    },
    {
      "cell_type": "code",
      "source": [
        "# Calculate class weights for the loss function\n",
        "class_counts = torch.bincount(y_train)\n",
        "class_weights = 1 / class_counts\n",
        "class_weights /= class_weights.sum()"
      ],
      "metadata": {
        "id": "IP0BRBbjpJ4O"
      },
      "execution_count": null,
      "outputs": []
    },
    {
      "cell_type": "markdown",
      "metadata": {
        "id": "-9rM9lmZETYL"
      },
      "source": [
        "# Train"
      ]
    },
    {
      "cell_type": "markdown",
      "source": [
        "## Build the transformer architecture"
      ],
      "metadata": {
        "id": "K8maO_EupYzp"
      }
    },
    {
      "cell_type": "code",
      "source": [
        "class PositionalEncoding(nn.Module):\n",
        "    def __init__(self, n_embedding_dims, dropout=0.1, max_len=5000):\n",
        "        super(PositionalEncoding, self).__init__()\n",
        "        self.dropout = nn.Dropout(p=dropout)\n",
        "\n",
        "        pe = torch.zeros(max_len, n_embedding_dims)\n",
        "        position = torch.arange(0, max_len, dtype=torch.float).unsqueeze(1)\n",
        "        div_term = torch.exp(\n",
        "            torch.arange(0, n_embedding_dims, 2).float()\n",
        "            * (-np.log(10000.0) / n_embedding_dims)\n",
        "        )\n",
        "        pe[:, 0::2] = torch.sin(position * div_term)\n",
        "        pe[:, 1::2] = torch.cos(position * div_term)\n",
        "        pe = pe.unsqueeze(0).transpose(0, 1)\n",
        "        self.register_buffer(\"pe\", pe)\n",
        "\n",
        "    def forward(self, x):\n",
        "        x = x + self.pe[: x.size(0), :]\n",
        "        return self.dropout(x)"
      ],
      "metadata": {
        "id": "iIL3vpZZpUDr"
      },
      "execution_count": null,
      "outputs": []
    },
    {
      "cell_type": "code",
      "source": [
        "class TimeSeriesClassifier(nn.Module):\n",
        "    def __init__(\n",
        "        self, \n",
        "        n_features: int,\n",
        "        n_embedding_dims: int,\n",
        "        n_head: int,\n",
        "        n_layers: int,\n",
        "        n_out: int,\n",
        "        dropout: float = 0.1,\n",
        "    ):\n",
        "        super(TimeSeriesClassifier, self).__init__()\n",
        "        self.n_embedding_dims = n_embedding_dims\n",
        "        self.embedding = nn.Linear(n_features, n_embedding_dims)\n",
        "        self.pos_encoder = PositionalEncoding(n_embedding_dims, dropout)\n",
        "        self.norm = nn.LayerNorm(n_embedding_dims)\n",
        "        encoder_layer = TransformerEncoderLayer(n_embedding_dims, n_head)\n",
        "        self.transformer_encoder = TransformerEncoder(encoder_layer, n_layers)\n",
        "        self.output_layer = nn.Linear(n_embedding_dims, n_out)\n",
        "\n",
        "    def forward(self, x):\n",
        "        out = self.embedding(x)\n",
        "        out = self.pos_encoder(out)\n",
        "        out = self.norm(out)\n",
        "        # PyTorch's TransformerEncoder expects input shape\n",
        "        # (sequence_length, batch_size, n_embedding_dims), hence permutation twice\n",
        "        out = out.permute(1, 0, 2)\n",
        "        out = self.transformer_encoder(out)\n",
        "        out = out.permute(1, 0, 2)\n",
        "        out = out[:, -1, :]  # output of the last sequence step\n",
        "        # out = out.mean(dim=1)  # mean of all sequence steps\n",
        "        out = self.output_layer(out)\n",
        "        return out"
      ],
      "metadata": {
        "id": "i8E623m5pUi4"
      },
      "execution_count": null,
      "outputs": []
    },
    {
      "cell_type": "markdown",
      "source": [
        "## Define evaluation mechanism"
      ],
      "metadata": {
        "id": "FidRcSQKpgdU"
      }
    },
    {
      "cell_type": "code",
      "source": [
        "def evaluate(y_test: Tensor, y_pred_proba: Tensor) -> None:\n",
        "    \"\"\"\n",
        "    Evaluate model performance by computing metrics\n",
        "        and plotting precision-recall curve and confusion matrix.\n",
        "    :param y_test: true target variable\n",
        "    :param y_pred_proba: prediction probabilities for the positive class (0.0 to 1.0)\n",
        "    :param threshold: cutoff point to determine the final prediction\n",
        "    :return: None\n",
        "    \"\"\"\n",
        "    y_test = y_test.cpu()\n",
        "    y_pred_proba = y_pred_proba.cpu()\n",
        "    metrics = calculate_metrics(y_test, y_pred_proba)\n",
        "    print(\", \".join([f\"{k}: {round(v, 3)}\" for k, v in metrics.items()]))\n",
        "    y_pred = y_pred_proba.argmax(dim=1).detach()\n",
        "    plot_confusion_matrix(y_test, y_pred)\n",
        "\n",
        "\n",
        "def calculate_metrics(\n",
        "    y_test: Tensor, y_pred_proba: Tensor\n",
        ") -> Dict[str, float]:\n",
        "    \"\"\"Calculate all metrics.\"\"\"\n",
        "    y_test, y_pred_proba = y_test.detach(), y_pred_proba.detach()\n",
        "    y_pred = y_pred_proba.argmax(dim=1)\n",
        "    return {\n",
        "        \"f1\": f1_score(\n",
        "            y_test, y_pred, labels=(0, 1, 2), zero_division=0, average=\"macro\"\n",
        "        ),\n",
        "        \"avg_precision_score\": average_precision_score(\n",
        "            F.one_hot(y_test, num_classes=3), y_pred_proba, average=\"macro\"\n",
        "        ),\n",
        "        \"balanced_accuracy\": balanced_accuracy_score(\n",
        "            y_test, y_pred, adjusted=True\n",
        "        ),\n",
        "    }\n",
        "\n",
        "\n",
        "def plot_confusion_matrix(y_test, y_pred) -> None:\n",
        "    \"\"\"Plot a confusion matrix on axis.\"\"\"\n",
        "    ConfusionMatrixDisplay.from_predictions(\n",
        "        y_test, y_pred, labels=(0, 1, 2), cmap=\"Blues\"\n",
        "    )\n",
        "    plt.grid(False)\n",
        "    plt.title(\"Confusion matrix\")\n",
        "    plt.show()"
      ],
      "metadata": {
        "id": "Alc1e05QpgNl"
      },
      "execution_count": null,
      "outputs": []
    },
    {
      "cell_type": "markdown",
      "source": [
        "## Train & evaluate the model"
      ],
      "metadata": {
        "id": "XRL8iVm7pcpf"
      }
    },
    {
      "cell_type": "code",
      "source": [
        "# Create DataLoaders for training and validation sets\n",
        "dl_train = DataLoader(ds_train, batch_size=BATCH_SIZE, shuffle=True)\n",
        "dl_valid = DataLoader(ds_valid, batch_size=BATCH_SIZE, shuffle=False)"
      ],
      "metadata": {
        "id": "Xtvr-o2dptH7"
      },
      "execution_count": null,
      "outputs": []
    },
    {
      "cell_type": "code",
      "source": [
        "# Instantiate the model, loss function, and optimizer\n",
        "model = TimeSeriesClassifier(\n",
        "    n_features=x_train.size(1),\n",
        "    n_embedding_dims=N_EMBEDDING_DIMS,\n",
        "    n_head=N_HEAD,\n",
        "    n_layers=N_LAYERS,\n",
        "    n_out=N_OUT,\n",
        "    dropout=0.1,\n",
        ")\n",
        "\n",
        "# Send model to GPU\n",
        "model = model.to(device)\n",
        "\n",
        "criterion = nn.CrossEntropyLoss(weight=class_weights)\n",
        "optimizer = torch.optim.Adam(model.parameters(), lr=0.0001)"
      ],
      "metadata": {
        "id": "EdU-jGCrpWtj"
      },
      "execution_count": null,
      "outputs": []
    },
    {
      "cell_type": "code",
      "source": [
        "# TODO \n",
        "# # 1. Set weight decay\n",
        "# learning_rate = None\n",
        "# weight_decay = None\n",
        "# optimizer = torch.optim.Adam(\n",
        "#     model.parameters(), lr=learning_rate, weight_decay=weight_decay\n",
        "# )\n",
        "\n",
        "# # 2. Set learning rate decay\n",
        "# lr_decay_step = None\n",
        "# lr_decay_magnitude = None\n",
        "# scheduler = torch.optim.lr_scheduler.StepLR(\n",
        "#     optimizer, step_size=lr_decay_step, gamma=lr_decay_magnitude,\n",
        "# )"
      ],
      "metadata": {
        "id": "ediMV-PYB6C4"
      },
      "execution_count": null,
      "outputs": []
    },
    {
      "cell_type": "code",
      "source": [
        "# Training loop\n",
        "\n",
        "train_losses = []\n",
        "valid_losses = []\n",
        "best_valid_loss = float('inf')\n",
        "\n",
        "for epoch in range(N_EPOCHS):\n",
        "    model.train()\n",
        "    train_loss = 0.0\n",
        "    for inputs, targets in dl_train:\n",
        "        # Perform a forward pass through the model\n",
        "        output_logits = model(inputs)\n",
        "        # Compute the loss\n",
        "        loss = criterion(output_logits, targets)\n",
        "        # Zero the gradients\n",
        "        optimizer.zero_grad()\n",
        "        # Perform a backward pass (backpropagation)\n",
        "        loss.backward()\n",
        "        # Update the parameters\n",
        "        optimizer.step()\n",
        "        train_loss += loss.item()\n",
        "    train_loss /= len(dl_train)\n",
        "    train_losses.append(train_loss)\n",
        "\n",
        "    # Validation\n",
        "    model.eval()\n",
        "    valid_loss = 0.0\n",
        "    with torch.no_grad():\n",
        "        for inputs, targets in dl_valid:\n",
        "            output_logits = model(inputs)\n",
        "            loss = criterion(output_logits, targets)\n",
        "            valid_loss += loss.item()\n",
        "    valid_loss /= len(dl_valid)\n",
        "    valid_losses.append(valid_loss)\n",
        "\n",
        "    if valid_loss < best_valid_loss:\n",
        "        torch.save(model.state_dict(), 'model.bin')\n",
        "        best_valid_loss = valid_loss\n",
        "\n",
        "    print(\n",
        "        f\"Epoch: {epoch + 1}, Train Loss: {train_loss:.3f}, Validation Loss: {valid_loss:.3f}\"\n",
        "    )"
      ],
      "metadata": {
        "colab": {
          "base_uri": "https://localhost:8080/"
        },
        "id": "YFciY1BYpcJX",
        "outputId": "c3fbdcb1-4886-4c7f-b7c8-8341cb32434c"
      },
      "execution_count": null,
      "outputs": [
        {
          "output_type": "stream",
          "name": "stdout",
          "text": [
            "Epoch: 1, Train Loss: 1.087, Validation Loss: 1.161\n",
            "Epoch: 2, Train Loss: 1.074, Validation Loss: 1.161\n",
            "Epoch: 3, Train Loss: 1.070, Validation Loss: 1.138\n",
            "Epoch: 4, Train Loss: 1.069, Validation Loss: 1.117\n",
            "Epoch: 5, Train Loss: 1.067, Validation Loss: 1.129\n",
            "Epoch: 6, Train Loss: 1.065, Validation Loss: 1.064\n",
            "Epoch: 7, Train Loss: 1.064, Validation Loss: 1.079\n",
            "Epoch: 8, Train Loss: 1.063, Validation Loss: 1.069\n",
            "Epoch: 9, Train Loss: 1.062, Validation Loss: 1.112\n",
            "Epoch: 10, Train Loss: 1.061, Validation Loss: 1.073\n",
            "Epoch: 11, Train Loss: 1.061, Validation Loss: 1.062\n",
            "Epoch: 12, Train Loss: 1.059, Validation Loss: 1.100\n",
            "Epoch: 13, Train Loss: 1.059, Validation Loss: 1.098\n",
            "Epoch: 14, Train Loss: 1.058, Validation Loss: 1.082\n",
            "Epoch: 15, Train Loss: 1.057, Validation Loss: 1.064\n",
            "Epoch: 16, Train Loss: 1.055, Validation Loss: 1.102\n",
            "Epoch: 17, Train Loss: 1.055, Validation Loss: 1.104\n",
            "Epoch: 18, Train Loss: 1.055, Validation Loss: 1.072\n",
            "Epoch: 19, Train Loss: 1.054, Validation Loss: 1.093\n",
            "Epoch: 20, Train Loss: 1.053, Validation Loss: 1.057\n",
            "Epoch: 21, Train Loss: 1.051, Validation Loss: 1.079\n",
            "Epoch: 22, Train Loss: 1.051, Validation Loss: 1.077\n",
            "Epoch: 23, Train Loss: 1.051, Validation Loss: 1.058\n",
            "Epoch: 24, Train Loss: 1.050, Validation Loss: 1.081\n",
            "Epoch: 25, Train Loss: 1.048, Validation Loss: 1.071\n",
            "Epoch: 26, Train Loss: 1.049, Validation Loss: 1.084\n",
            "Epoch: 27, Train Loss: 1.048, Validation Loss: 1.072\n",
            "Epoch: 28, Train Loss: 1.045, Validation Loss: 1.070\n",
            "Epoch: 29, Train Loss: 1.044, Validation Loss: 1.079\n",
            "Epoch: 30, Train Loss: 1.045, Validation Loss: 1.082\n",
            "Epoch: 31, Train Loss: 1.044, Validation Loss: 1.078\n",
            "Epoch: 32, Train Loss: 1.043, Validation Loss: 1.092\n",
            "Epoch: 33, Train Loss: 1.041, Validation Loss: 1.090\n",
            "Epoch: 34, Train Loss: 1.040, Validation Loss: 1.074\n",
            "Epoch: 35, Train Loss: 1.040, Validation Loss: 1.074\n",
            "Epoch: 36, Train Loss: 1.038, Validation Loss: 1.084\n",
            "Epoch: 37, Train Loss: 1.038, Validation Loss: 1.084\n",
            "Epoch: 38, Train Loss: 1.038, Validation Loss: 1.064\n",
            "Epoch: 39, Train Loss: 1.035, Validation Loss: 1.078\n",
            "Epoch: 40, Train Loss: 1.033, Validation Loss: 1.071\n",
            "Epoch: 41, Train Loss: 1.032, Validation Loss: 1.079\n",
            "Epoch: 42, Train Loss: 1.034, Validation Loss: 1.087\n",
            "Epoch: 43, Train Loss: 1.030, Validation Loss: 1.059\n",
            "Epoch: 44, Train Loss: 1.028, Validation Loss: 1.075\n",
            "Epoch: 45, Train Loss: 1.027, Validation Loss: 1.078\n",
            "Epoch: 46, Train Loss: 1.026, Validation Loss: 1.089\n",
            "Epoch: 47, Train Loss: 1.027, Validation Loss: 1.091\n",
            "Epoch: 48, Train Loss: 1.025, Validation Loss: 1.084\n",
            "Epoch: 49, Train Loss: 1.023, Validation Loss: 1.090\n",
            "Epoch: 50, Train Loss: 1.021, Validation Loss: 1.088\n",
            "Epoch: 51, Train Loss: 1.019, Validation Loss: 1.085\n",
            "Epoch: 52, Train Loss: 1.019, Validation Loss: 1.096\n",
            "Epoch: 53, Train Loss: 1.018, Validation Loss: 1.104\n",
            "Epoch: 54, Train Loss: 1.015, Validation Loss: 1.091\n",
            "Epoch: 55, Train Loss: 1.014, Validation Loss: 1.102\n",
            "Epoch: 56, Train Loss: 1.014, Validation Loss: 1.081\n",
            "Epoch: 57, Train Loss: 1.011, Validation Loss: 1.079\n",
            "Epoch: 58, Train Loss: 1.010, Validation Loss: 1.116\n",
            "Epoch: 59, Train Loss: 1.007, Validation Loss: 1.090\n",
            "Epoch: 60, Train Loss: 1.007, Validation Loss: 1.083\n",
            "Epoch: 61, Train Loss: 1.005, Validation Loss: 1.109\n",
            "Epoch: 62, Train Loss: 1.002, Validation Loss: 1.104\n",
            "Epoch: 63, Train Loss: 1.001, Validation Loss: 1.094\n",
            "Epoch: 64, Train Loss: 0.999, Validation Loss: 1.137\n",
            "Epoch: 65, Train Loss: 0.997, Validation Loss: 1.119\n",
            "Epoch: 66, Train Loss: 0.995, Validation Loss: 1.142\n",
            "Epoch: 67, Train Loss: 0.993, Validation Loss: 1.115\n",
            "Epoch: 68, Train Loss: 0.989, Validation Loss: 1.133\n",
            "Epoch: 69, Train Loss: 0.989, Validation Loss: 1.161\n",
            "Epoch: 70, Train Loss: 0.988, Validation Loss: 1.126\n",
            "Epoch: 71, Train Loss: 0.983, Validation Loss: 1.102\n",
            "Epoch: 72, Train Loss: 0.984, Validation Loss: 1.135\n",
            "Epoch: 73, Train Loss: 0.984, Validation Loss: 1.155\n",
            "Epoch: 74, Train Loss: 0.979, Validation Loss: 1.138\n",
            "Epoch: 75, Train Loss: 0.975, Validation Loss: 1.129\n",
            "Epoch: 76, Train Loss: 0.974, Validation Loss: 1.127\n",
            "Epoch: 77, Train Loss: 0.976, Validation Loss: 1.132\n",
            "Epoch: 78, Train Loss: 0.971, Validation Loss: 1.180\n",
            "Epoch: 79, Train Loss: 0.969, Validation Loss: 1.137\n",
            "Epoch: 80, Train Loss: 0.968, Validation Loss: 1.137\n",
            "Epoch: 81, Train Loss: 0.967, Validation Loss: 1.151\n",
            "Epoch: 82, Train Loss: 0.960, Validation Loss: 1.145\n",
            "Epoch: 83, Train Loss: 0.958, Validation Loss: 1.132\n",
            "Epoch: 84, Train Loss: 0.960, Validation Loss: 1.142\n",
            "Epoch: 85, Train Loss: 0.954, Validation Loss: 1.165\n",
            "Epoch: 86, Train Loss: 0.956, Validation Loss: 1.196\n",
            "Epoch: 87, Train Loss: 0.952, Validation Loss: 1.166\n",
            "Epoch: 88, Train Loss: 0.950, Validation Loss: 1.165\n",
            "Epoch: 89, Train Loss: 0.949, Validation Loss: 1.135\n",
            "Epoch: 90, Train Loss: 0.947, Validation Loss: 1.186\n",
            "Epoch: 91, Train Loss: 0.943, Validation Loss: 1.178\n",
            "Epoch: 92, Train Loss: 0.941, Validation Loss: 1.185\n",
            "Epoch: 93, Train Loss: 0.942, Validation Loss: 1.155\n",
            "Epoch: 94, Train Loss: 0.937, Validation Loss: 1.195\n",
            "Epoch: 95, Train Loss: 0.935, Validation Loss: 1.212\n",
            "Epoch: 96, Train Loss: 0.934, Validation Loss: 1.182\n",
            "Epoch: 97, Train Loss: 0.932, Validation Loss: 1.162\n",
            "Epoch: 98, Train Loss: 0.930, Validation Loss: 1.158\n",
            "Epoch: 99, Train Loss: 0.928, Validation Loss: 1.176\n",
            "Epoch: 100, Train Loss: 0.924, Validation Loss: 1.247\n"
          ]
        }
      ]
    },
    {
      "cell_type": "code",
      "source": [
        "# Load the best model\n",
        "model.load_state_dict(torch.load('model.bin'))"
      ],
      "metadata": {
        "colab": {
          "base_uri": "https://localhost:8080/"
        },
        "id": "k4R78fY0tXgg",
        "outputId": "ac57add1-0354-49d1-f6d3-db2f1f068ec5"
      },
      "execution_count": null,
      "outputs": [
        {
          "output_type": "execute_result",
          "data": {
            "text/plain": [
              "<All keys matched successfully>"
            ]
          },
          "metadata": {},
          "execution_count": 95
        }
      ]
    },
    {
      "cell_type": "code",
      "source": [
        "# Plot loss evolution\n",
        "plt.plot(train_losses, label=\"train\")\n",
        "plt.plot(valid_losses, label=\"valid\")\n",
        "plt.legend(title=\"Dataset\")\n",
        "plt.title(\"Loss evolution\")\n",
        "plt.xlabel(\"epoch\")\n",
        "plt.show()"
      ],
      "metadata": {
        "colab": {
          "base_uri": "https://localhost:8080/",
          "height": 419
        },
        "id": "F2r3p6KfpbuN",
        "outputId": "dbef2233-f65e-43b4-cd61-15cf480a2412"
      },
      "execution_count": null,
      "outputs": [
        {
          "output_type": "display_data",
          "data": {
            "text/plain": [
              "<Figure size 600x400 with 1 Axes>"
            ],
            "image/png": "[encoded data removed]"
          },
          "metadata": {}
        }
      ]
    },
    {
      "cell_type": "code",
      "source": [
        "# Evaluation\n",
        "model.eval()\n",
        "y_pred_proba = torch.Tensor([]).to(device)\n",
        "with torch.no_grad():\n",
        "    for inputs, targets in dl_valid:\n",
        "        output_logits = model(inputs)\n",
        "        batch_pred_proba = F.softmax(output_logits, dim=1)\n",
        "        y_pred_proba = torch.cat((y_pred_proba, batch_pred_proba), dim=0)\n",
        "\n",
        "y_true = dl_valid.dataset.y\n",
        "evaluate(y_true, y_pred_proba)"
      ],
      "metadata": {
        "colab": {
          "base_uri": "https://localhost:8080/",
          "height": 437
        },
        "id": "kkC8LaAOrCzN",
        "outputId": "543be202-4aa3-4aa2-a231-8c2753fb5a1c"
      },
      "execution_count": null,
      "outputs": [
        {
          "output_type": "stream",
          "name": "stdout",
          "text": [
            "f1: 0.391, avg_precision_score: 0.404, balanced_accuracy: 0.088\n"
          ]
        },
        {
          "output_type": "display_data",
          "data": {
            "text/plain": [
              "<Figure size 600x400 with 2 Axes>"
            ],
            "image/png": "[encoded data removed]"
          },
          "metadata": {}
        }
      ]
    },
    {
      "cell_type": "markdown",
      "metadata": {
        "id": "acrVnaxKU_qh"
      },
      "source": [
        "---"
      ]
    }
  ],
  "metadata": {
    "accelerator": "GPU",
    "colab": {
      "provenance": [],
      "authorship_tag": "ABX9TyNdXwd08yuHsNRytXmD/i+I",
      "include_colab_link": true
    },
    "gpuClass": "standard",
    "kernelspec": {
      "display_name": "Python 3",
      "name": "python3"
    },
    "language_info": {
      "name": "python"
    }
  },
  "nbformat": 4,
  "nbformat_minor": 0
}