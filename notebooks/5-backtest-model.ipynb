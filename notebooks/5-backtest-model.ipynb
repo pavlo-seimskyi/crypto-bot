{
 "cells": [
  {
   "cell_type": "code",
   "execution_count": 1,
   "id": "56eeb834",
   "metadata": {},
   "outputs": [
    {
     "data": {
      "text/plain": [
       "True"
      ]
     },
     "execution_count": 1,
     "metadata": {},
     "output_type": "execute_result"
    }
   ],
   "source": [
    "import os\n",
    "\n",
    "os.chdir(\"../\")\n",
    "\n",
    "from dotenv import load_dotenv\n",
    "\n",
    "%load_ext autoreload\n",
    "%autoreload 2\n",
    "\n",
    "load_dotenv(\".env\")"
   ]
  },
  {
   "cell_type": "code",
   "execution_count": 2,
   "id": "7449611f",
   "metadata": {},
   "outputs": [],
   "source": [
    "import pandas as pd\n",
    "import numpy as np\n",
    "import matplotlib.pyplot as plt\n",
    "import seaborn as sns\n",
    "\n",
    "import torch\n",
    "\n",
    "import constants\n",
    "\n",
    "# Data preparation imports\n",
    "from src.features.feature_service import FeatureService\n",
    "from src.features.feature_generators.technical_indicators import (\n",
    "    EMA, SMA, BB, OBV, MACD, RSI\n",
    ")\n",
    "from src.features.feature_generators.datetime import DateTime\n",
    "from src.labelers import BinaryLabeler\n",
    "\n",
    "# Model imports\n",
    "from src.model.datasets import SlidingWindowDataset\n",
    "from src.model.architectures import TransformerBinaryClassifier\n",
    "from src.model.wrappers import BinaryModelWrapper\n",
    "\n",
    "# Backtester imports\n",
    "from src.evaluation.metrics import evaluate_binary\n",
    "from src.evaluation import Backtester"
   ]
  },
  {
   "cell_type": "code",
   "execution_count": 3,
   "id": "0762b398",
   "metadata": {},
   "outputs": [],
   "source": [
    "# Plot styling\n",
    "TEXT_COLOR = \"#313131\"\n",
    "\n",
    "# Plotly colors\n",
    "LINE_COLORS = [\n",
    "    \"#636EFA\",\n",
    "    \"#EF553B\",\n",
    "    \"#00CC96\",\n",
    "    \"#AB63FA\",\n",
    "    \"#FFA15A\",\n",
    "    \"#19D3F3\",\n",
    "    \"#FF6692\",\n",
    "    \"#B6E880\",\n",
    "    \"#FF97FF\",\n",
    "    \"#FECB52\",\n",
    "]\n",
    "\n",
    "sns.set(\n",
    "    style=\"darkgrid\",\n",
    "    rc={\n",
    "        \"figure.figsize\": (6, 4),\n",
    "        \"figure.dpi\": 100,\n",
    "        \"figure.facecolor\": \"w\",\n",
    "        \"legend.facecolor\": \"w\",\n",
    "        \"text.color\": TEXT_COLOR,\n",
    "        \"font.family\": \"Microsoft Sans Serif\",\n",
    "        \"axes.labelcolor\": TEXT_COLOR,\n",
    "        \"xtick.color\": TEXT_COLOR,\n",
    "        \"ytick.color\": TEXT_COLOR,\n",
    "    },\n",
    ")\n",
    "\n",
    "sns.set_palette(sns.color_palette(LINE_COLORS))"
   ]
  },
  {
   "cell_type": "code",
   "execution_count": 4,
   "id": "3ae88160",
   "metadata": {},
   "outputs": [],
   "source": [
    "DEVICE = torch.device(\"cuda\" if torch.cuda.is_available() else \"cpu\")\n",
    "TARGET_COL = \"BTCUSDT_close\""
   ]
  },
  {
   "cell_type": "markdown",
   "id": "93c55d14",
   "metadata": {},
   "source": [
    "# Create dataset"
   ]
  },
  {
   "cell_type": "code",
   "execution_count": 5,
   "id": "39a36c82",
   "metadata": {},
   "outputs": [],
   "source": [
    "df = pd.read_parquet(\"data/binance\")"
   ]
  },
  {
   "cell_type": "code",
   "execution_count": 6,
   "id": "894e1cf1",
   "metadata": {},
   "outputs": [],
   "source": [
    "# Get only 10k rows to test the functionality\n",
    "df = df.iloc[:10000]"
   ]
  },
  {
   "cell_type": "markdown",
   "id": "1f0d7f6c",
   "metadata": {},
   "source": [
    "### Generate features"
   ]
  },
  {
   "cell_type": "code",
   "execution_count": 7,
   "id": "075c9fa7",
   "metadata": {},
   "outputs": [],
   "source": [
    "symbols = [\n",
    "    f\"{asset}{constants.FIAT_TO_TRADE}\" \n",
    "    for asset in [constants.ASSET_TO_TRADE, *constants.PREDICTOR_ASSETS] \n",
    "]\n",
    "\n",
    "generators = []\n",
    "\n",
    "# Moving averages\n",
    "generators += [\n",
    "    indicator(input_col=f\"{symbol}_close\", period=period)\n",
    "    for indicator in [EMA, SMA]\n",
    "    for symbol in symbols\n",
    "    for period in [9, 21, 50]\n",
    "]\n",
    "\n",
    "# MACD\n",
    "generators += [\n",
    "    MACD(\n",
    "        input_col=f\"{symbol}_close\", \n",
    "        fast_period=12, \n",
    "        slow_period=26, \n",
    "        signal_period=9,\n",
    "    )\n",
    "    for symbol in symbols\n",
    "]\n",
    "\n",
    "# RSI\n",
    "generators += [\n",
    "    RSI(input_col=f\"{symbol}_close\")\n",
    "    for symbol in symbols\n",
    "]\n",
    "\n",
    "# Bollinger bands\n",
    "generators += [\n",
    "    BB(input_col=f\"{symbol}_close\")\n",
    "    for symbol in symbols\n",
    "]\n",
    "\n",
    "# OBV\n",
    "generators += [\n",
    "    OBV(\n",
    "        open_col=f\"{symbol}_open\",\n",
    "        close_col=f\"{symbol}_close\",\n",
    "        high_col=f\"{symbol}_high\",\n",
    "        low_col=f\"{symbol}_low\",\n",
    "        volume_col=f\"{symbol}_volume\",\n",
    "    )\n",
    "    for symbol in symbols\n",
    "]\n",
    "\n",
    "# DateTime\n",
    "generators += [\n",
    "    DateTime(timestamp_col=\"open_timestamp\")\n",
    "]"
   ]
  },
  {
   "cell_type": "code",
   "execution_count": 8,
   "id": "f98af8f9",
   "metadata": {},
   "outputs": [],
   "source": [
    "service = FeatureService(*generators)"
   ]
  },
  {
   "cell_type": "code",
   "execution_count": 9,
   "id": "43e25efe",
   "metadata": {},
   "outputs": [
    {
     "name": "stdout",
     "output_type": "stream",
     "text": [
      "CPU times: user 1.99 s, sys: 29.1 ms, total: 2.02 s\n",
      "Wall time: 2.03 s\n"
     ]
    }
   ],
   "source": [
    "%%time\n",
    "service.initialize(df)"
   ]
  },
  {
   "cell_type": "code",
   "execution_count": 10,
   "id": "68e5380d",
   "metadata": {
    "scrolled": true
   },
   "outputs": [
    {
     "name": "stdout",
     "output_type": "stream",
     "text": [
      "CPU times: user 166 ms, sys: 11.4 ms, total: 178 ms\n",
      "Wall time: 180 ms\n"
     ]
    }
   ],
   "source": [
    "%%time\n",
    "# Features DF\n",
    "features_df = pd.DataFrame(service.output_values)"
   ]
  },
  {
   "cell_type": "markdown",
   "id": "860eeb09",
   "metadata": {},
   "source": [
    "### Generate labels"
   ]
  },
  {
   "cell_type": "code",
   "execution_count": 11,
   "id": "017227ca",
   "metadata": {},
   "outputs": [],
   "source": [
    "labeler = BinaryLabeler(price_col=TARGET_COL, period=5)"
   ]
  },
  {
   "cell_type": "code",
   "execution_count": 12,
   "id": "c4484a07",
   "metadata": {},
   "outputs": [],
   "source": [
    "features_df[\"target\"] = labeler.transform(df)"
   ]
  },
  {
   "cell_type": "markdown",
   "id": "50652f36",
   "metadata": {},
   "source": [
    "### Prepare data for training"
   ]
  },
  {
   "cell_type": "code",
   "execution_count": 13,
   "id": "a2cd8d36",
   "metadata": {},
   "outputs": [],
   "source": [
    "data = pd.concat(\n",
    "    (df, features_df),\n",
    "    axis=1,\n",
    ").dropna()"
   ]
  },
  {
   "cell_type": "code",
   "execution_count": 14,
   "id": "4e19c70d",
   "metadata": {},
   "outputs": [],
   "source": [
    "x = data.drop([\"time\", \"open_timestamp\", \"date\"], axis=1).astype(float)\n",
    "y = data[\"target\"].astype(float)"
   ]
  },
  {
   "cell_type": "code",
   "execution_count": 15,
   "id": "bcf61511",
   "metadata": {},
   "outputs": [],
   "source": [
    "x = torch.Tensor(x.values).to(torch.float).to(DEVICE)\n",
    "y = torch.Tensor(y.values).to(torch.float).to(DEVICE)"
   ]
  },
  {
   "cell_type": "code",
   "execution_count": 16,
   "id": "d1cdd616",
   "metadata": {},
   "outputs": [
    {
     "data": {
      "text/plain": [
       "(torch.Size([9946, 151]), torch.Size([9946]))"
      ]
     },
     "execution_count": 16,
     "metadata": {},
     "output_type": "execute_result"
    }
   ],
   "source": [
    "x.size(), y.size()"
   ]
  },
  {
   "cell_type": "markdown",
   "id": "3b71849c",
   "metadata": {},
   "source": [
    "---"
   ]
  },
  {
   "cell_type": "markdown",
   "id": "8bc95854",
   "metadata": {},
   "source": [
    "# Run Backtest"
   ]
  },
  {
   "cell_type": "code",
   "execution_count": 17,
   "id": "9532cf8a",
   "metadata": {},
   "outputs": [],
   "source": [
    "model = TransformerBinaryClassifier(\n",
    "    n_features=x.size(1),\n",
    "    n_embedding_dims=64,\n",
    "    n_head=8,\n",
    "    n_layers=2,\n",
    ")"
   ]
  },
  {
   "cell_type": "code",
   "execution_count": 18,
   "id": "e409c62d",
   "metadata": {},
   "outputs": [],
   "source": [
    "wrapper = BinaryModelWrapper(\n",
    "    model=model,\n",
    "    batch_size=128,\n",
    "    loss_fn=torch.nn.BCELoss(),\n",
    "    dataset_builder=SlidingWindowDataset,\n",
    "    lr_decay_multiplier=0.9,\n",
    "    lr_decay_step=2,\n",
    ")"
   ]
  },
  {
   "cell_type": "code",
   "execution_count": 19,
   "id": "78b10181",
   "metadata": {},
   "outputs": [],
   "source": [
    "backtester = Backtester(\n",
    "    wrapper=wrapper,\n",
    "    evaluation_fn=evaluate_binary,\n",
    "    x=x,\n",
    "    y=y,\n",
    "    gap_proportion=0.2,\n",
    "    valid_proportion=0.3,\n",
    "    n_splits=2,\n",
    ")"
   ]
  },
  {
   "cell_type": "code",
   "execution_count": 20,
   "id": "ca5dc0b0",
   "metadata": {
    "scrolled": false
   },
   "outputs": [
    {
     "name": "stdout",
     "output_type": "stream",
     "text": [
      "Split 1\n",
      "Train start: 0 | Train end: 3825 | Valid start: 5355 | Valid end: 7650\n"
     ]
    },
    {
     "name": "stderr",
     "output_type": "stream",
     "text": [
      "/Users/pavlo.seimskyi/Desktop/github-repos/crypto-bot/.venv/lib/python3.8/site-packages/torch/optim/lr_scheduler.py:132: UserWarning: Seems like `optimizer.step()` has been overridden after learning rate scheduler initialization. Please, make sure to call `optimizer.step()` before `lr_scheduler.step()`. See more details at https://pytorch.org/docs/stable/optim.html#how-to-adjust-learning-rate\n",
      "  warnings.warn(\"Seems like `optimizer.step()` has been overridden after learning rate scheduler \"\n"
     ]
    },
    {
     "name": "stdout",
     "output_type": "stream",
     "text": [
      "Epoch: 1 | Train Loss: 0.798 | Valid Loss: 0.729\n",
      "Epoch: 2 | Train Loss: 0.802 | Valid Loss: 0.799\n",
      "Epoch: 3 | Train Loss: 0.804 | Valid Loss: 0.754\n",
      "Epoch: 4 | Train Loss: 0.796 | Valid Loss: 0.747\n",
      "Epoch: 5 | Train Loss: 0.807 | Valid Loss: 0.757\n",
      "Epoch: 6 | Train Loss: 0.795 | Valid Loss: 0.790\n",
      "Epoch: 7 | Train Loss: 0.790 | Valid Loss: 0.784\n",
      "Epoch: 8 | Train Loss: 0.797 | Valid Loss: 0.786\n",
      "Epoch: 9 | Train Loss: 0.790 | Valid Loss: 0.781\n",
      "Epoch: 10 | Train Loss: 0.795 | Valid Loss: 0.776\n",
      "accuracy: 0.505, f1: 0.436, precision: 0.499, recall: 0.386, avg_precision_score: 0.515\n"
     ]
    },
    {
     "data": {
      "image/png": "[encoded data removed]",
      "text/plain": [
       "<Figure size 600x400 with 2 Axes>"
      ]
     },
     "metadata": {},
     "output_type": "display_data"
    },
    {
     "name": "stdout",
     "output_type": "stream",
     "text": [
      "Split 2\n",
      "Train start: 2295 | Train end: 6120 | Valid start: 7650 | Valid end: 9945\n",
      "Epoch: 1 | Train Loss: 0.805 | Valid Loss: 1.153\n",
      "Epoch: 2 | Train Loss: 0.808 | Valid Loss: 1.158\n",
      "Epoch: 3 | Train Loss: 0.806 | Valid Loss: 1.104\n",
      "Epoch: 4 | Train Loss: 0.795 | Valid Loss: 1.139\n",
      "Epoch: 5 | Train Loss: 0.793 | Valid Loss: 1.020\n",
      "Epoch: 6 | Train Loss: 0.801 | Valid Loss: 1.004\n",
      "Epoch: 7 | Train Loss: 0.792 | Valid Loss: 1.022\n",
      "Epoch: 8 | Train Loss: 0.775 | Valid Loss: 0.983\n",
      "Epoch: 9 | Train Loss: 0.810 | Valid Loss: 0.984\n",
      "Epoch: 10 | Train Loss: 0.795 | Valid Loss: 0.928\n",
      "accuracy: 0.485, f1: 0.654, precision: 0.485, recall: 1.0, avg_precision_score: 0.515\n"
     ]
    },
    {
     "data": {
      "image/png": "[encoded data removed]",
      "text/plain": [
       "<Figure size 600x400 with 2 Axes>"
      ]
     },
     "metadata": {},
     "output_type": "display_data"
    },
    {
     "name": "stdout",
     "output_type": "stream",
     "text": [
      "FINAL RESULTS\n",
      "accuracy: 0.495, f1: 0.573, precision: 0.489, recall: 0.69, avg_precision_score: 0.503\n"
     ]
    },
    {
     "data": {
      "image/png": "[encoded data removed]",
      "text/plain": [
       "<Figure size 600x400 with 2 Axes>"
      ]
     },
     "metadata": {},
     "output_type": "display_data"
    }
   ],
   "source": [
    "backtester.run()"
   ]
  },
  {
   "cell_type": "markdown",
   "id": "0fe1bb45",
   "metadata": {},
   "source": [
    "---"
   ]
  }
 ],
 "metadata": {
  "kernelspec": {
   "display_name": "crypto-bot",
   "language": "python",
   "name": "crypto-bot"
  },
  "language_info": {
   "codemirror_mode": {
    "name": "ipython",
    "version": 3
   },
   "file_extension": ".py",
   "mimetype": "text/x-python",
   "name": "python",
   "nbconvert_exporter": "python",
   "pygments_lexer": "ipython3",
   "version": "3.8.6"
  }
 },
 "nbformat": 4,
 "nbformat_minor": 5
}
