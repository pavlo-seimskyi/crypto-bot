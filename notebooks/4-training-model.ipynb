{
 "cells": [
  {
   "cell_type": "code",
   "execution_count": 2,
   "id": "7449611f",
   "metadata": {},
   "outputs": [],
   "source": [
    "import os\n",
    "\n",
    "os.chdir(\"../\")\n",
    "\n",
    "from dotenv import load_dotenv\n",
    "\n",
    "%load_ext autoreload\n",
    "%autoreload 2\n",
    "\n",
    "load_dotenv(\".env\")\n",
    "\n",
    "import pandas as pd\n",
    "import numpy as np\n",
    "import matplotlib.pyplot as plt\n",
    "import seaborn as sns\n",
    "\n",
    "import torch\n",
    "\n",
    "import constants\n",
    "from src.model.wrappers import BinaryModelWrapper\n",
    "from src.model.architectures import TransformerBinaryClassifier\n",
    "from src.model.datasets import SlidingWindowDataset\n",
    "\n",
    "TEXT_COLOR = \"#313131\"\n",
    "# Plotly colors\n",
    "LINE_COLORS = [\n",
    "    \"#636EFA\",\n",
    "    \"#EF553B\",\n",
    "    \"#00CC96\",\n",
    "    \"#AB63FA\",\n",
    "    \"#FFA15A\",\n",
    "    \"#19D3F3\",\n",
    "    \"#FF6692\",\n",
    "    \"#B6E880\",\n",
    "    \"#FF97FF\",\n",
    "    \"#FECB52\",\n",
    "]\n",
    "\n",
    "sns.set(\n",
    "    style=\"darkgrid\",\n",
    "    rc={\n",
    "        \"figure.figsize\": (6, 4),\n",
    "        \"figure.dpi\": 100,\n",
    "        \"figure.facecolor\": \"w\",\n",
    "        \"legend.facecolor\": \"w\",\n",
    "        \"text.color\": TEXT_COLOR,\n",
    "        \"font.family\": \"Microsoft Sans Serif\",\n",
    "        \"axes.labelcolor\": TEXT_COLOR,\n",
    "        \"xtick.color\": TEXT_COLOR,\n",
    "        \"ytick.color\": TEXT_COLOR,\n",
    "    },\n",
    ")\n",
    "\n",
    "sns.set_palette(sns.color_palette(LINE_COLORS))"
   ]
  },
  {
   "cell_type": "code",
   "execution_count": 46,
   "id": "3ae88160",
   "metadata": {},
   "outputs": [],
   "source": [
    "DEVICE = torch.device(\"cuda\" if torch.cuda.is_available() else \"cpu\")"
   ]
  },
  {
   "cell_type": "code",
   "execution_count": 47,
   "id": "ab640c5f",
   "metadata": {},
   "outputs": [
    {
     "data": {
      "text/plain": [
       "device(type='cpu')"
      ]
     },
     "execution_count": 47,
     "metadata": {},
     "output_type": "execute_result"
    }
   ],
   "source": [
    "DEVICE"
   ]
  },
  {
   "cell_type": "markdown",
   "id": "93c55d14",
   "metadata": {},
   "source": [
    "# Create dataset"
   ]
  },
  {
   "cell_type": "code",
   "execution_count": 38,
   "id": "39a36c82",
   "metadata": {},
   "outputs": [],
   "source": [
    "df = pd.read_parquet(\"data/binance\")"
   ]
  },
  {
   "cell_type": "code",
   "execution_count": 40,
   "id": "32df9b5b",
   "metadata": {},
   "outputs": [],
   "source": [
    "def generate_binary_labels(prices: np.ndarray, interval: int) -> np.ndarray:\n",
    "    \"\"\"\n",
    "    Label depending on relative changes in future prices.\n",
    "\n",
    "    Parameters\n",
    "    ----------\n",
    "    prices: array\n",
    "        Data containing features `frequency`, `recency`, and `T`\n",
    "        for each `customer_id`.\n",
    "    interval: int\n",
    "        How many steps ahead is the future price.\n",
    "        \n",
    "    Returns\n",
    "    -------\n",
    "    Array of buy/sell/hold signals.\n",
    "        0 = Sell signal. Price will drop below the threshold.\n",
    "        1 = Hold signal. Price will not surpass the threshold\n",
    "        2 = Buy signal. Price will rise above the threshold.\n",
    "    \"\"\"\n",
    "    future_prices = np.roll(a=prices, shift=-interval)\n",
    "    labels = (future_prices > prices).astype(int)\n",
    "    return np.concatenate((labels[:-interval], interval * [np.nan]))"
   ]
  },
  {
   "cell_type": "code",
   "execution_count": 41,
   "id": "26aec17c",
   "metadata": {},
   "outputs": [],
   "source": [
    "df[\"target\"] = generate_binary_labels(\n",
    "    prices=df[\"ADAUSDT_close\"].values,\n",
    "    interval=5,\n",
    ")"
   ]
  },
  {
   "cell_type": "code",
   "execution_count": 42,
   "id": "21d6f8e3",
   "metadata": {},
   "outputs": [],
   "source": [
    "df = df.dropna()"
   ]
  },
  {
   "cell_type": "code",
   "execution_count": 43,
   "id": "69c8333c",
   "metadata": {},
   "outputs": [],
   "source": [
    "x = df.drop([\"time\", \"open_timestamp\", \"date\", \"target\"], axis=1)\n",
    "y = df[\"target\"]"
   ]
  },
  {
   "cell_type": "code",
   "execution_count": 44,
   "id": "5bdd0469",
   "metadata": {},
   "outputs": [
    {
     "data": {
      "image/png": "[encoded data removed]",
      "text/plain": [
       "<Figure size 600x400 with 1 Axes>"
      ]
     },
     "metadata": {},
     "output_type": "display_data"
    }
   ],
   "source": [
    "fig,ax = plt.subplots()\n",
    "sns.countplot(x=y.astype(int), ax=ax)\n",
    "\n",
    "# show the count in %\n",
    "for p in ax.patches:\n",
    "    h_, w_, x_ = p.get_height(), p.get_width(), p.get_x()\n",
    "    xy_ = (x_ + w_ / 2., h_ / 2)\n",
    "    pct = 100 * h_ / y.shape[0]\n",
    "    text = f'{pct:0.1f}%'\n",
    "    ax.annotate(text=text, xy=xy_, ha='center', va='bottom')\n",
    "    \n",
    "plt.title(\"Target distribution is a bit balanced\")\n",
    "plt.show()"
   ]
  },
  {
   "cell_type": "code",
   "execution_count": 45,
   "id": "334d9008",
   "metadata": {},
   "outputs": [],
   "source": [
    "# Create `x` and `y`\n",
    "x = torch.tensor(x.astype(float).values).to(DEVICE).to(torch.float)\n",
    "y = torch.tensor(y.values).to(DEVICE).to(torch.float)"
   ]
  },
  {
   "cell_type": "code",
   "execution_count": 23,
   "id": "30f146d9",
   "metadata": {},
   "outputs": [],
   "source": [
    "# Just take a subset to try training\n",
    "x_train = x[:10000]\n",
    "y_train = y[:10000]\n",
    "\n",
    "x_valid = x[10000:15000]\n",
    "y_valid = y[10000:15000]"
   ]
  },
  {
   "cell_type": "code",
   "execution_count": 26,
   "id": "b153e13e",
   "metadata": {},
   "outputs": [],
   "source": [
    "model = TransformerBinaryClassifier(\n",
    "    n_features=x.size(1),\n",
    "    n_embedding_dims=64,\n",
    "    n_head=8,\n",
    "    n_layers=2, \n",
    "    n_out=1,\n",
    ")"
   ]
  },
  {
   "cell_type": "code",
   "execution_count": 32,
   "id": "049d36e1",
   "metadata": {},
   "outputs": [],
   "source": [
    "estimator = BinaryModelWrapper(\n",
    "    model=model,\n",
    "    batch_size=128,\n",
    "    loss_fn=torch.nn.BCELoss(),\n",
    "    dataset_builder=SlidingWindowDataset,\n",
    "    lr_decay_multiplier=0.9,\n",
    "    lr_decay_step=5,\n",
    ")"
   ]
  },
  {
   "cell_type": "code",
   "execution_count": 35,
   "id": "fbcb6a5c",
   "metadata": {},
   "outputs": [
    {
     "name": "stdout",
     "output_type": "stream",
     "text": [
      "Epoch: 1 | Train Loss: 0.730 | Valid Loss: 0.788\n",
      "Epoch: 2 | Train Loss: 0.731 | Valid Loss: 0.789\n",
      "Epoch: 3 | Train Loss: 0.731 | Valid Loss: 0.755\n",
      "Epoch: 4 | Train Loss: 0.731 | Valid Loss: 0.785\n",
      "Epoch: 5 | Train Loss: 0.732 | Valid Loss: 0.802\n",
      "Epoch: 6 | Train Loss: 0.732 | Valid Loss: 0.796\n",
      "Epoch: 7 | Train Loss: 0.727 | Valid Loss: 0.799\n",
      "Epoch: 8 | Train Loss: 0.728 | Valid Loss: 0.793\n",
      "Epoch: 9 | Train Loss: 0.727 | Valid Loss: 0.791\n",
      "Epoch: 10 | Train Loss: 0.728 | Valid Loss: 0.782\n"
     ]
    }
   ],
   "source": [
    "estimator.fit(\n",
    "    x_train=x_train,\n",
    "    y_train=y_train,\n",
    "    x_valid=x_valid,\n",
    "    y_valid=y_valid,\n",
    ")"
   ]
  },
  {
   "cell_type": "markdown",
   "id": "0fe1bb45",
   "metadata": {},
   "source": [
    "---"
   ]
  }
 ],
 "metadata": {
  "kernelspec": {
   "display_name": "crypto-bot",
   "language": "python",
   "name": "crypto-bot"
  },
  "language_info": {
   "codemirror_mode": {
    "name": "ipython",
    "version": 3
   },
   "file_extension": ".py",
   "mimetype": "text/x-python",
   "name": "python",
   "nbconvert_exporter": "python",
   "pygments_lexer": "ipython3",
   "version": "3.8.6"
  }
 },
 "nbformat": 4,
 "nbformat_minor": 5
}
